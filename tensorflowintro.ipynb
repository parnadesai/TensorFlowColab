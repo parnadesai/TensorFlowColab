{
  "nbformat": 4,
  "nbformat_minor": 0,
  "metadata": {
    "colab": {
      "provenance": []
    },
    "kernelspec": {
      "name": "python3",
      "display_name": "Python 3"
    },
    "language_info": {
      "name": "python"
    }
  },
  "cells": [
    {
      "cell_type": "markdown",
      "source": [
        "Tensor Flow Intro\n",
        "\n",
        "Tensor is a generalization of vectors and matrices to potentially higher dimensions. Internally, TensorFlow represents Tensors as dimensional arrays of base datatypes.\n",
        "Tensors store partially defined computations in a graph.\n",
        "\n",
        "Each tensor ahs a data type and a shape\n",
        "\n",
        "Datatypes: float32,int32,string,others\n",
        "\n",
        "Shape: Dimension of data"
      ],
      "metadata": {
        "id": "crnEDnFgkyKQ"
      }
    },
    {
      "cell_type": "code",
      "source": [
        "import tensorflow as tf"
      ],
      "metadata": {
        "id": "MQGY15npo1FF"
      },
      "execution_count": null,
      "outputs": []
    },
    {
      "cell_type": "code",
      "source": [
        "rank1_tensor=tf.Variable([\"Test\",\"Okay\",\"Tim\"],tf.string)\n",
        "rank2_tensor=tf.Variable([[\"test\",\"ok\"],[\"test\",\"yes\"],[\"nigga\",\"lol\"]],tf.string)\n",
        "\n"
      ],
      "metadata": {
        "id": "UzboWEeak18F"
      },
      "execution_count": null,
      "outputs": []
    },
    {
      "cell_type": "markdown",
      "source": [
        "Rank determination"
      ],
      "metadata": {
        "id": "QaXjwuSTp0SR"
      }
    },
    {
      "cell_type": "code",
      "source": [
        "tf.rank(rank2_tensor)\n"
      ],
      "metadata": {
        "colab": {
          "base_uri": "https://localhost:8080/"
        },
        "id": "28vDzp09qDiY",
        "outputId": "823392df-4e23-4977-eab1-eba4190b6a6f"
      },
      "execution_count": null,
      "outputs": [
        {
          "output_type": "execute_result",
          "data": {
            "text/plain": [
              "<tf.Tensor: shape=(), dtype=int32, numpy=2>"
            ]
          },
          "metadata": {},
          "execution_count": 19
        }
      ]
    },
    {
      "cell_type": "code",
      "source": [
        "rank2_tensor.shape"
      ],
      "metadata": {
        "colab": {
          "base_uri": "https://localhost:8080/"
        },
        "id": "gFQ9oo2Bq3BF",
        "outputId": "222ded62-0330-4f96-f1bc-67e0a2de9903"
      },
      "execution_count": null,
      "outputs": [
        {
          "output_type": "execute_result",
          "data": {
            "text/plain": [
              "TensorShape([3, 2])"
            ]
          },
          "metadata": {},
          "execution_count": 23
        }
      ]
    },
    {
      "cell_type": "code",
      "source": [
        "rank1_tensor.shape"
      ],
      "metadata": {
        "colab": {
          "base_uri": "https://localhost:8080/"
        },
        "id": "WCPMpIgrq5qC",
        "outputId": "983ed8d2-292f-40a2-9ac7-e9b34081ed48"
      },
      "execution_count": null,
      "outputs": [
        {
          "output_type": "execute_result",
          "data": {
            "text/plain": [
              "TensorShape([3])"
            ]
          },
          "metadata": {},
          "execution_count": 21
        }
      ]
    },
    {
      "cell_type": "markdown",
      "source": [
        "***Changing the shape of the tensor***"
      ],
      "metadata": {
        "id": "90f8NjlLrsxa"
      }
    },
    {
      "cell_type": "code",
      "source": [
        "tensor1=tf.ones([1,2,3])\n",
        "tensor2=tf.reshape(tensor1,[2,3,1])\n",
        "tensor3=tf.reshape(tensor2,[3,-1])\n",
        "#"
      ],
      "metadata": {
        "id": "Na8UqGS_rxPV"
      },
      "execution_count": null,
      "outputs": []
    },
    {
      "cell_type": "code",
      "source": [
        "print(tensor1)\n",
        "print(tensor2)\n",
        "print(tensor3)"
      ],
      "metadata": {
        "colab": {
          "base_uri": "https://localhost:8080/"
        },
        "id": "ffQTKF3qr5ak",
        "outputId": "3351e315-ae9c-4e4b-d0f6-a7aa4e6774bd"
      },
      "execution_count": null,
      "outputs": [
        {
          "output_type": "stream",
          "name": "stdout",
          "text": [
            "tf.Tensor(\n",
            "[[[1. 1. 1.]\n",
            "  [1. 1. 1.]]], shape=(1, 2, 3), dtype=float32)\n",
            "tf.Tensor(\n",
            "[[[1.]\n",
            "  [1.]\n",
            "  [1.]]\n",
            "\n",
            " [[1.]\n",
            "  [1.]\n",
            "  [1.]]], shape=(2, 3, 1), dtype=float32)\n",
            "tf.Tensor(\n",
            "[[1. 1.]\n",
            " [1. 1.]\n",
            " [1. 1.]], shape=(3, 2), dtype=float32)\n"
          ]
        }
      ]
    },
    {
      "cell_type": "markdown",
      "source": [
        "**TYPES OF TENSOR**\n",
        "\n",
        "\n",
        "1.   Variable\n",
        "2.   Constant\n",
        "3.  Placeholder\n",
        "4. SparseTensor\n",
        "\n"
      ],
      "metadata": {
        "id": "0ThaxvFJsRId"
      }
    }
  ]
}